{
 "cells": [
  {
   "cell_type": "code",
   "execution_count": 1,
   "id": "906d09ac",
   "metadata": {},
   "outputs": [],
   "source": [
    "import pandas_datareader as pdr"
   ]
  },
  {
   "cell_type": "code",
   "execution_count": 2,
   "id": "3125e3ab",
   "metadata": {},
   "outputs": [],
   "source": [
    "key='e3ae9a769b6322448df9f27304f0fb9499979d79'"
   ]
  },
  {
   "cell_type": "code",
   "execution_count": 3,
   "id": "9622ebac",
   "metadata": {},
   "outputs": [],
   "source": [
    "df=pdr.get_data_tiingo('AAPL',api_key=key)"
   ]
  },
  {
   "cell_type": "code",
   "execution_count": 4,
   "id": "e0907b43",
   "metadata": {},
   "outputs": [],
   "source": [
    "df.to_csv('AAPL.csv')"
   ]
  },
  {
   "cell_type": "code",
   "execution_count": 5,
   "id": "e7c3ca81",
   "metadata": {},
   "outputs": [],
   "source": [
    "import pandas as pd"
   ]
  },
  {
   "cell_type": "code",
   "execution_count": 6,
   "id": "a181c305",
   "metadata": {},
   "outputs": [],
   "source": [
    "df=pd.read_csv('AAPL.csv')"
   ]
  },
  {
   "cell_type": "code",
   "execution_count": 7,
   "id": "5dd8d3a7",
   "metadata": {},
   "outputs": [
    {
     "data": {
      "text/html": [
       "<div>\n",
       "<style scoped>\n",
       "    .dataframe tbody tr th:only-of-type {\n",
       "        vertical-align: middle;\n",
       "    }\n",
       "\n",
       "    .dataframe tbody tr th {\n",
       "        vertical-align: top;\n",
       "    }\n",
       "\n",
       "    .dataframe thead th {\n",
       "        text-align: right;\n",
       "    }\n",
       "</style>\n",
       "<table border=\"1\" class=\"dataframe\">\n",
       "  <thead>\n",
       "    <tr style=\"text-align: right;\">\n",
       "      <th></th>\n",
       "      <th>symbol</th>\n",
       "      <th>date</th>\n",
       "      <th>close</th>\n",
       "      <th>high</th>\n",
       "      <th>low</th>\n",
       "      <th>open</th>\n",
       "      <th>volume</th>\n",
       "      <th>adjClose</th>\n",
       "      <th>adjHigh</th>\n",
       "      <th>adjLow</th>\n",
       "      <th>adjOpen</th>\n",
       "      <th>adjVolume</th>\n",
       "      <th>divCash</th>\n",
       "      <th>splitFactor</th>\n",
       "    </tr>\n",
       "  </thead>\n",
       "  <tbody>\n",
       "    <tr>\n",
       "      <th>0</th>\n",
       "      <td>AAPL</td>\n",
       "      <td>2017-02-23 00:00:00+00:00</td>\n",
       "      <td>136.53</td>\n",
       "      <td>137.480</td>\n",
       "      <td>136.300</td>\n",
       "      <td>137.38</td>\n",
       "      <td>20788186</td>\n",
       "      <td>32.221602</td>\n",
       "      <td>32.445806</td>\n",
       "      <td>32.167321</td>\n",
       "      <td>32.422206</td>\n",
       "      <td>83152744</td>\n",
       "      <td>0.0</td>\n",
       "      <td>1.0</td>\n",
       "    </tr>\n",
       "    <tr>\n",
       "      <th>1</th>\n",
       "      <td>AAPL</td>\n",
       "      <td>2017-02-24 00:00:00+00:00</td>\n",
       "      <td>136.66</td>\n",
       "      <td>136.660</td>\n",
       "      <td>135.280</td>\n",
       "      <td>135.91</td>\n",
       "      <td>21776585</td>\n",
       "      <td>32.252283</td>\n",
       "      <td>32.252283</td>\n",
       "      <td>31.926598</td>\n",
       "      <td>32.075280</td>\n",
       "      <td>87106340</td>\n",
       "      <td>0.0</td>\n",
       "      <td>1.0</td>\n",
       "    </tr>\n",
       "    <tr>\n",
       "      <th>2</th>\n",
       "      <td>AAPL</td>\n",
       "      <td>2017-02-27 00:00:00+00:00</td>\n",
       "      <td>136.93</td>\n",
       "      <td>137.435</td>\n",
       "      <td>136.280</td>\n",
       "      <td>137.14</td>\n",
       "      <td>20257426</td>\n",
       "      <td>32.316004</td>\n",
       "      <td>32.435186</td>\n",
       "      <td>32.162601</td>\n",
       "      <td>32.365565</td>\n",
       "      <td>81029704</td>\n",
       "      <td>0.0</td>\n",
       "      <td>1.0</td>\n",
       "    </tr>\n",
       "    <tr>\n",
       "      <th>3</th>\n",
       "      <td>AAPL</td>\n",
       "      <td>2017-02-28 00:00:00+00:00</td>\n",
       "      <td>136.99</td>\n",
       "      <td>137.435</td>\n",
       "      <td>136.700</td>\n",
       "      <td>137.08</td>\n",
       "      <td>23482860</td>\n",
       "      <td>32.330164</td>\n",
       "      <td>32.435186</td>\n",
       "      <td>32.261723</td>\n",
       "      <td>32.351404</td>\n",
       "      <td>93931440</td>\n",
       "      <td>0.0</td>\n",
       "      <td>1.0</td>\n",
       "    </tr>\n",
       "    <tr>\n",
       "      <th>4</th>\n",
       "      <td>AAPL</td>\n",
       "      <td>2017-03-01 00:00:00+00:00</td>\n",
       "      <td>139.79</td>\n",
       "      <td>140.150</td>\n",
       "      <td>137.595</td>\n",
       "      <td>137.89</td>\n",
       "      <td>36414585</td>\n",
       "      <td>32.990975</td>\n",
       "      <td>33.075936</td>\n",
       "      <td>32.472946</td>\n",
       "      <td>32.542568</td>\n",
       "      <td>145658340</td>\n",
       "      <td>0.0</td>\n",
       "      <td>1.0</td>\n",
       "    </tr>\n",
       "  </tbody>\n",
       "</table>\n",
       "</div>"
      ],
      "text/plain": [
       "  symbol                       date   close     high      low    open  \\\n",
       "0   AAPL  2017-02-23 00:00:00+00:00  136.53  137.480  136.300  137.38   \n",
       "1   AAPL  2017-02-24 00:00:00+00:00  136.66  136.660  135.280  135.91   \n",
       "2   AAPL  2017-02-27 00:00:00+00:00  136.93  137.435  136.280  137.14   \n",
       "3   AAPL  2017-02-28 00:00:00+00:00  136.99  137.435  136.700  137.08   \n",
       "4   AAPL  2017-03-01 00:00:00+00:00  139.79  140.150  137.595  137.89   \n",
       "\n",
       "     volume   adjClose    adjHigh     adjLow    adjOpen  adjVolume  divCash  \\\n",
       "0  20788186  32.221602  32.445806  32.167321  32.422206   83152744      0.0   \n",
       "1  21776585  32.252283  32.252283  31.926598  32.075280   87106340      0.0   \n",
       "2  20257426  32.316004  32.435186  32.162601  32.365565   81029704      0.0   \n",
       "3  23482860  32.330164  32.435186  32.261723  32.351404   93931440      0.0   \n",
       "4  36414585  32.990975  33.075936  32.472946  32.542568  145658340      0.0   \n",
       "\n",
       "   splitFactor  \n",
       "0          1.0  \n",
       "1          1.0  \n",
       "2          1.0  \n",
       "3          1.0  \n",
       "4          1.0  "
      ]
     },
     "execution_count": 7,
     "metadata": {},
     "output_type": "execute_result"
    }
   ],
   "source": [
    "df.head()"
   ]
  },
  {
   "cell_type": "code",
   "execution_count": 8,
   "id": "8f704afe",
   "metadata": {},
   "outputs": [
    {
     "data": {
      "text/html": [
       "<div>\n",
       "<style scoped>\n",
       "    .dataframe tbody tr th:only-of-type {\n",
       "        vertical-align: middle;\n",
       "    }\n",
       "\n",
       "    .dataframe tbody tr th {\n",
       "        vertical-align: top;\n",
       "    }\n",
       "\n",
       "    .dataframe thead th {\n",
       "        text-align: right;\n",
       "    }\n",
       "</style>\n",
       "<table border=\"1\" class=\"dataframe\">\n",
       "  <thead>\n",
       "    <tr style=\"text-align: right;\">\n",
       "      <th></th>\n",
       "      <th>symbol</th>\n",
       "      <th>date</th>\n",
       "      <th>close</th>\n",
       "      <th>high</th>\n",
       "      <th>low</th>\n",
       "      <th>open</th>\n",
       "      <th>volume</th>\n",
       "      <th>adjClose</th>\n",
       "      <th>adjHigh</th>\n",
       "      <th>adjLow</th>\n",
       "      <th>adjOpen</th>\n",
       "      <th>adjVolume</th>\n",
       "      <th>divCash</th>\n",
       "      <th>splitFactor</th>\n",
       "    </tr>\n",
       "  </thead>\n",
       "  <tbody>\n",
       "    <tr>\n",
       "      <th>1253</th>\n",
       "      <td>AAPL</td>\n",
       "      <td>2022-02-14 00:00:00+00:00</td>\n",
       "      <td>168.88</td>\n",
       "      <td>169.5800</td>\n",
       "      <td>166.56</td>\n",
       "      <td>167.37</td>\n",
       "      <td>86185530</td>\n",
       "      <td>168.88</td>\n",
       "      <td>169.5800</td>\n",
       "      <td>166.56</td>\n",
       "      <td>167.37</td>\n",
       "      <td>86185530</td>\n",
       "      <td>0.0</td>\n",
       "      <td>1.0</td>\n",
       "    </tr>\n",
       "    <tr>\n",
       "      <th>1254</th>\n",
       "      <td>AAPL</td>\n",
       "      <td>2022-02-15 00:00:00+00:00</td>\n",
       "      <td>172.79</td>\n",
       "      <td>172.9500</td>\n",
       "      <td>170.25</td>\n",
       "      <td>170.97</td>\n",
       "      <td>64286320</td>\n",
       "      <td>172.79</td>\n",
       "      <td>172.9500</td>\n",
       "      <td>170.25</td>\n",
       "      <td>170.97</td>\n",
       "      <td>64286320</td>\n",
       "      <td>0.0</td>\n",
       "      <td>1.0</td>\n",
       "    </tr>\n",
       "    <tr>\n",
       "      <th>1255</th>\n",
       "      <td>AAPL</td>\n",
       "      <td>2022-02-16 00:00:00+00:00</td>\n",
       "      <td>172.55</td>\n",
       "      <td>173.3400</td>\n",
       "      <td>170.05</td>\n",
       "      <td>171.85</td>\n",
       "      <td>61177398</td>\n",
       "      <td>172.55</td>\n",
       "      <td>173.3400</td>\n",
       "      <td>170.05</td>\n",
       "      <td>171.85</td>\n",
       "      <td>61177398</td>\n",
       "      <td>0.0</td>\n",
       "      <td>1.0</td>\n",
       "    </tr>\n",
       "    <tr>\n",
       "      <th>1256</th>\n",
       "      <td>AAPL</td>\n",
       "      <td>2022-02-17 00:00:00+00:00</td>\n",
       "      <td>168.88</td>\n",
       "      <td>171.9100</td>\n",
       "      <td>168.47</td>\n",
       "      <td>171.03</td>\n",
       "      <td>69589344</td>\n",
       "      <td>168.88</td>\n",
       "      <td>171.9100</td>\n",
       "      <td>168.47</td>\n",
       "      <td>171.03</td>\n",
       "      <td>69589344</td>\n",
       "      <td>0.0</td>\n",
       "      <td>1.0</td>\n",
       "    </tr>\n",
       "    <tr>\n",
       "      <th>1257</th>\n",
       "      <td>AAPL</td>\n",
       "      <td>2022-02-18 00:00:00+00:00</td>\n",
       "      <td>167.30</td>\n",
       "      <td>170.5413</td>\n",
       "      <td>166.19</td>\n",
       "      <td>169.82</td>\n",
       "      <td>82772674</td>\n",
       "      <td>167.30</td>\n",
       "      <td>170.5413</td>\n",
       "      <td>166.19</td>\n",
       "      <td>169.82</td>\n",
       "      <td>82772674</td>\n",
       "      <td>0.0</td>\n",
       "      <td>1.0</td>\n",
       "    </tr>\n",
       "  </tbody>\n",
       "</table>\n",
       "</div>"
      ],
      "text/plain": [
       "     symbol                       date   close      high     low    open  \\\n",
       "1253   AAPL  2022-02-14 00:00:00+00:00  168.88  169.5800  166.56  167.37   \n",
       "1254   AAPL  2022-02-15 00:00:00+00:00  172.79  172.9500  170.25  170.97   \n",
       "1255   AAPL  2022-02-16 00:00:00+00:00  172.55  173.3400  170.05  171.85   \n",
       "1256   AAPL  2022-02-17 00:00:00+00:00  168.88  171.9100  168.47  171.03   \n",
       "1257   AAPL  2022-02-18 00:00:00+00:00  167.30  170.5413  166.19  169.82   \n",
       "\n",
       "        volume  adjClose   adjHigh  adjLow  adjOpen  adjVolume  divCash  \\\n",
       "1253  86185530    168.88  169.5800  166.56   167.37   86185530      0.0   \n",
       "1254  64286320    172.79  172.9500  170.25   170.97   64286320      0.0   \n",
       "1255  61177398    172.55  173.3400  170.05   171.85   61177398      0.0   \n",
       "1256  69589344    168.88  171.9100  168.47   171.03   69589344      0.0   \n",
       "1257  82772674    167.30  170.5413  166.19   169.82   82772674      0.0   \n",
       "\n",
       "      splitFactor  \n",
       "1253          1.0  \n",
       "1254          1.0  \n",
       "1255          1.0  \n",
       "1256          1.0  \n",
       "1257          1.0  "
      ]
     },
     "execution_count": 8,
     "metadata": {},
     "output_type": "execute_result"
    }
   ],
   "source": [
    "df.tail()"
   ]
  },
  {
   "cell_type": "code",
   "execution_count": 9,
   "id": "042e5caa",
   "metadata": {},
   "outputs": [],
   "source": [
    "df1=df.reset_index()['close']"
   ]
  },
  {
   "cell_type": "code",
   "execution_count": 10,
   "id": "a7aabd3a",
   "metadata": {},
   "outputs": [
    {
     "data": {
      "text/plain": [
       "0    136.53\n",
       "1    136.66\n",
       "2    136.93\n",
       "3    136.99\n",
       "4    139.79\n",
       "Name: close, dtype: float64"
      ]
     },
     "execution_count": 10,
     "metadata": {},
     "output_type": "execute_result"
    }
   ],
   "source": [
    "df1.head()"
   ]
  },
  {
   "cell_type": "code",
   "execution_count": 11,
   "id": "ba269dc5",
   "metadata": {},
   "outputs": [
    {
     "data": {
      "text/plain": [
       "(1258,)"
      ]
     },
     "execution_count": 11,
     "metadata": {},
     "output_type": "execute_result"
    }
   ],
   "source": [
    "df1.shape"
   ]
  },
  {
   "cell_type": "code",
   "execution_count": 12,
   "id": "a4ada202",
   "metadata": {},
   "outputs": [
    {
     "data": {
      "text/plain": [
       "[<matplotlib.lines.Line2D at 0x1fe3591f1c0>]"
      ]
     },
     "execution_count": 12,
     "metadata": {},
     "output_type": "execute_result"
    },
    {
     "data": {
      "image/png": "[encoded data removed]",
      "text/plain": [
       "<Figure size 432x288 with 1 Axes>"
      ]
     },
     "metadata": {
      "needs_background": "light"
     },
     "output_type": "display_data"
    }
   ],
   "source": [
    "import matplotlib.pyplot as plt\n",
    "plt.plot(df1)"
   ]
  },
  {
   "cell_type": "code",
   "execution_count": 13,
   "id": "c618bac7",
   "metadata": {},
   "outputs": [],
   "source": [
    "import numpy as np"
   ]
  },
  {
   "cell_type": "markdown",
   "id": "c218203f",
   "metadata": {},
   "source": [
    "# we apply MinMax Scaler because LSTM is sensitive to the scale of the data"
   ]
  },
  {
   "cell_type": "code",
   "execution_count": 14,
   "id": "3a904c4c",
   "metadata": {},
   "outputs": [],
   "source": [
    "from sklearn.preprocessing import MinMaxScaler\n",
    "scaler=MinMaxScaler(feature_range=(0,1))\n",
    "df1=scaler.fit_transform(np.array(df1).reshape(-1,1))"
   ]
  },
  {
   "cell_type": "code",
   "execution_count": 15,
   "id": "049ba0c7",
   "metadata": {},
   "outputs": [
    {
     "data": {
      "text/plain": [
       "(1258, 1)"
      ]
     },
     "execution_count": 15,
     "metadata": {},
     "output_type": "execute_result"
    }
   ],
   "source": [
    "df1.shape"
   ]
  },
  {
   "cell_type": "code",
   "execution_count": 20,
   "id": "e85e062d",
   "metadata": {},
   "outputs": [
    {
     "data": {
      "text/plain": [
       "array([[0.07436443],\n",
       "       [0.07469004],\n",
       "       [0.07536631],\n",
       "       ...,\n",
       "       [0.16458359],\n",
       "       [0.15539136],\n",
       "       [0.15143394]])"
      ]
     },
     "execution_count": 20,
     "metadata": {},
     "output_type": "execute_result"
    }
   ],
   "source": [
    "df1"
   ]
  },
  {
   "cell_type": "code",
   "execution_count": 21,
   "id": "7f47d7fc",
   "metadata": {},
   "outputs": [],
   "source": [
    "training_size=int(len(df1)*0.65)\n",
    "test_size=len(df1)-training_size\n",
    "train_data,test_data=df1[0:training_size,:],df1[training_size:len(df1),:1]"
   ]
  },
  {
   "cell_type": "code",
   "execution_count": 22,
   "id": "6be37017",
   "metadata": {},
   "outputs": [
    {
     "data": {
      "text/plain": [
       "(817, 1)"
      ]
     },
     "execution_count": 22,
     "metadata": {},
     "output_type": "execute_result"
    }
   ],
   "source": [
    "train_data.shape"
   ]
  },
  {
   "cell_type": "code",
   "execution_count": 23,
   "id": "4af523aa",
   "metadata": {},
   "outputs": [
    {
     "data": {
      "text/plain": [
       "(441, 1)"
      ]
     },
     "execution_count": 23,
     "metadata": {},
     "output_type": "execute_result"
    }
   ],
   "source": [
    "test_data.shape"
   ]
  },
  {
   "cell_type": "code",
   "execution_count": 24,
   "id": "8ce6b6fe",
   "metadata": {},
   "outputs": [],
   "source": [
    "import numpy\n",
    "def create_dataset(dataset,time_step=1):\n",
    "    dataX,dataY=[],[]\n",
    "    for i in range(len(dataset)-time_step-1):\n",
    "        a=dataset[i:(i+time_step),0]\n",
    "        dataX.append(a)\n",
    "        dataY.append(dataset[i+time_step,0])\n",
    "    return numpy.array(dataX),numpy.array(dataY)"
   ]
  },
  {
   "cell_type": "code",
   "execution_count": 25,
   "id": "ea35c793",
   "metadata": {},
   "outputs": [],
   "source": [
    "time_step=100\n",
    "X_train,y_train=create_dataset(train_data,time_step)\n",
    "X_test,y_test=create_dataset(test_data,time_step)"
   ]
  },
  {
   "cell_type": "code",
   "execution_count": 29,
   "id": "24d895d5",
   "metadata": {},
   "outputs": [
    {
     "data": {
      "text/plain": [
       "(716, 100)"
      ]
     },
     "execution_count": 29,
     "metadata": {},
     "output_type": "execute_result"
    }
   ],
   "source": [
    "X_train.shape"
   ]
  },
  {
   "cell_type": "code",
   "execution_count": 30,
   "id": "02218fc9",
   "metadata": {},
   "outputs": [
    {
     "data": {
      "text/plain": [
       "(716,)"
      ]
     },
     "execution_count": 30,
     "metadata": {},
     "output_type": "execute_result"
    }
   ],
   "source": [
    "y_train.shape"
   ]
  },
  {
   "cell_type": "code",
   "execution_count": 32,
   "id": "0c49d3b9",
   "metadata": {},
   "outputs": [
    {
     "data": {
      "text/plain": [
       "((340, 100), (340,))"
      ]
     },
     "execution_count": 32,
     "metadata": {},
     "output_type": "execute_result"
    }
   ],
   "source": [
    "X_test.shape,y_test.shape"
   ]
  },
  {
   "cell_type": "markdown",
   "id": "6601a8e1",
   "metadata": {},
   "source": [
    "# reshape input to be [samples, time_steps, features] which is required for LSTM"
   ]
  },
  {
   "cell_type": "code",
   "execution_count": 33,
   "id": "f7996595",
   "metadata": {},
   "outputs": [],
   "source": [
    "X_train=X_train.reshape(X_train.shape[0],X_train.shape[1],1)\n",
    "X_test=X_test.reshape(X_test.shape[0],X_test.shape[1],1)"
   ]
  },
  {
   "cell_type": "code",
   "execution_count": 34,
   "id": "f1fcb1f1",
   "metadata": {},
   "outputs": [
    {
     "data": {
      "text/plain": [
       "(716, 100, 1)"
      ]
     },
     "execution_count": 34,
     "metadata": {},
     "output_type": "execute_result"
    }
   ],
   "source": [
    "X_train.shape"
   ]
  },
  {
   "cell_type": "markdown",
   "id": "461dc1ae",
   "metadata": {},
   "source": [
    "## Creation of the stacked LSTM model"
   ]
  },
  {
   "cell_type": "code",
   "execution_count": 35,
   "id": "64e2a9cc",
   "metadata": {},
   "outputs": [],
   "source": [
    "from tensorflow.keras.models import Sequential\n",
    "from tensorflow.keras.layers import Dense\n",
    "from tensorflow.keras.layers import LSTM"
   ]
  },
  {
   "cell_type": "code",
   "execution_count": 39,
   "id": "9f3bf643",
   "metadata": {},
   "outputs": [],
   "source": [
    "model=Sequential()\n",
    "model.add(LSTM(50,return_sequences=True,input_shape=(100,1)))\n",
    "model.add(LSTM(50,return_sequences=True))\n",
    "model.add(LSTM(50))\n",
    "model.add(Dense(1))\n",
    "model.compile(loss='mean_squared_error',optimizer='adam')"
   ]
  },
  {
   "cell_type": "code",
   "execution_count": 40,
   "id": "939ced51",
   "metadata": {},
   "outputs": [
    {
     "name": "stdout",
     "output_type": "stream",
     "text": [
      "Model: \"sequential_1\"\n",
      "_________________________________________________________________\n",
      " Layer (type)                Output Shape              Param #   \n",
      "=================================================================\n",
      " lstm_3 (LSTM)               (None, 100, 50)           10400     \n",
      "                                                                 \n",
      " lstm_4 (LSTM)               (None, 100, 50)           20200     \n",
      "                                                                 \n",
      " lstm_5 (LSTM)               (None, 50)                20200     \n",
      "                                                                 \n",
      " dense_1 (Dense)             (None, 1)                 51        \n",
      "                                                                 \n",
      "=================================================================\n",
      "Total params: 50,851\n",
      "Trainable params: 50,851\n",
      "Non-trainable params: 0\n",
      "_________________________________________________________________\n"
     ]
    }
   ],
   "source": [
    "model.summary()"
   ]
  },
  {
   "cell_type": "code",
   "execution_count": 41,
   "id": "03e5e1c3",
   "metadata": {},
   "outputs": [
    {
     "name": "stdout",
     "output_type": "stream",
     "text": [
      "Epoch 1/100\n",
      "12/12 [==============================] - 14s 363ms/step - loss: 0.0176 - val_loss: 0.0020\n",
      "Epoch 2/100\n",
      "12/12 [==============================] - 3s 258ms/step - loss: 0.0048 - val_loss: 0.0074\n",
      "Epoch 3/100\n",
      "12/12 [==============================] - 3s 243ms/step - loss: 0.0024 - val_loss: 0.0016\n",
      "Epoch 4/100\n",
      "12/12 [==============================] - 2s 210ms/step - loss: 0.0012 - val_loss: 2.4439e-04\n",
      "Epoch 5/100\n",
      "12/12 [==============================] - 3s 264ms/step - loss: 0.0010 - val_loss: 2.2827e-04\n",
      "Epoch 6/100\n",
      "12/12 [==============================] - 3s 283ms/step - loss: 9.3238e-04 - val_loss: 2.7094e-04\n",
      "Epoch 7/100\n",
      "12/12 [==============================] - 3s 284ms/step - loss: 9.0808e-04 - val_loss: 3.5963e-04\n",
      "Epoch 8/100\n",
      "12/12 [==============================] - 3s 217ms/step - loss: 8.5648e-04 - val_loss: 2.2320e-04\n",
      "Epoch 9/100\n",
      "12/12 [==============================] - 3s 279ms/step - loss: 8.2270e-04 - val_loss: 2.2121e-04\n",
      "Epoch 10/100\n",
      "12/12 [==============================] - 3s 297ms/step - loss: 7.3507e-04 - val_loss: 2.7738e-04\n",
      "Epoch 11/100\n",
      "12/12 [==============================] - 3s 270ms/step - loss: 6.7868e-04 - val_loss: 2.2658e-04\n",
      "Epoch 12/100\n",
      "12/12 [==============================] - 4s 301ms/step - loss: 6.0944e-04 - val_loss: 1.8972e-04\n",
      "Epoch 13/100\n",
      "12/12 [==============================] - 4s 307ms/step - loss: 6.0965e-04 - val_loss: 3.1116e-04\n",
      "Epoch 14/100\n",
      "12/12 [==============================] - 3s 261ms/step - loss: 5.4473e-04 - val_loss: 2.2860e-04\n",
      "Epoch 15/100\n",
      "12/12 [==============================] - 3s 283ms/step - loss: 6.0035e-04 - val_loss: 1.8080e-04\n",
      "Epoch 16/100\n",
      "12/12 [==============================] - 3s 295ms/step - loss: 5.2052e-04 - val_loss: 1.9062e-04\n",
      "Epoch 17/100\n",
      "12/12 [==============================] - 3s 269ms/step - loss: 6.6427e-04 - val_loss: 2.3099e-04\n",
      "Epoch 18/100\n",
      "12/12 [==============================] - 3s 284ms/step - loss: 4.5244e-04 - val_loss: 1.7722e-04\n",
      "Epoch 19/100\n",
      "12/12 [==============================] - 4s 303ms/step - loss: 4.4750e-04 - val_loss: 1.9020e-04\n",
      "Epoch 20/100\n",
      "12/12 [==============================] - 3s 288ms/step - loss: 4.4129e-04 - val_loss: 1.7237e-04\n",
      "Epoch 21/100\n",
      "12/12 [==============================] - 3s 278ms/step - loss: 4.4224e-04 - val_loss: 1.7527e-04\n",
      "Epoch 22/100\n",
      "12/12 [==============================] - 4s 307ms/step - loss: 4.3862e-04 - val_loss: 2.0814e-04\n",
      "Epoch 23/100\n",
      "12/12 [==============================] - 4s 291ms/step - loss: 4.6649e-04 - val_loss: 1.8650e-04\n",
      "Epoch 24/100\n",
      "12/12 [==============================] - 4s 303ms/step - loss: 5.5883e-04 - val_loss: 2.3545e-04\n",
      "Epoch 25/100\n",
      "12/12 [==============================] - 4s 312ms/step - loss: 4.3052e-04 - val_loss: 1.7112e-04\n",
      "Epoch 26/100\n",
      "12/12 [==============================] - 4s 303ms/step - loss: 4.2308e-04 - val_loss: 1.9033e-04\n",
      "Epoch 27/100\n",
      "12/12 [==============================] - 3s 242ms/step - loss: 4.1016e-04 - val_loss: 1.8226e-04\n",
      "Epoch 28/100\n",
      "12/12 [==============================] - 3s 273ms/step - loss: 4.3454e-04 - val_loss: 2.1944e-04\n",
      "Epoch 29/100\n",
      "12/12 [==============================] - 3s 271ms/step - loss: 4.0649e-04 - val_loss: 1.8247e-04\n",
      "Epoch 30/100\n",
      "12/12 [==============================] - 3s 274ms/step - loss: 4.1824e-04 - val_loss: 1.7520e-04\n",
      "Epoch 31/100\n",
      "12/12 [==============================] - 3s 281ms/step - loss: 4.6089e-04 - val_loss: 2.0133e-04\n",
      "Epoch 32/100\n",
      "12/12 [==============================] - 3s 276ms/step - loss: 3.8185e-04 - val_loss: 2.0915e-04\n",
      "Epoch 33/100\n",
      "12/12 [==============================] - 3s 268ms/step - loss: 3.8718e-04 - val_loss: 1.7602e-04\n",
      "Epoch 34/100\n",
      "12/12 [==============================] - 3s 266ms/step - loss: 3.8632e-04 - val_loss: 2.1095e-04\n",
      "Epoch 35/100\n",
      "12/12 [==============================] - 3s 269ms/step - loss: 3.7301e-04 - val_loss: 1.7125e-04\n",
      "Epoch 36/100\n",
      "12/12 [==============================] - 3s 274ms/step - loss: 3.8828e-04 - val_loss: 1.8701e-04\n",
      "Epoch 37/100\n",
      "12/12 [==============================] - 3s 270ms/step - loss: 3.7474e-04 - val_loss: 1.6861e-04\n",
      "Epoch 38/100\n",
      "12/12 [==============================] - 3s 268ms/step - loss: 4.0635e-04 - val_loss: 2.0536e-04\n",
      "Epoch 39/100\n",
      "12/12 [==============================] - 3s 272ms/step - loss: 3.9332e-04 - val_loss: 1.7037e-04\n",
      "Epoch 40/100\n",
      "12/12 [==============================] - 3s 268ms/step - loss: 3.9060e-04 - val_loss: 2.5154e-04\n",
      "Epoch 41/100\n",
      "12/12 [==============================] - 3s 270ms/step - loss: 4.3226e-04 - val_loss: 1.6270e-04\n",
      "Epoch 42/100\n",
      "12/12 [==============================] - 3s 280ms/step - loss: 3.9386e-04 - val_loss: 1.7247e-04\n",
      "Epoch 43/100\n",
      "12/12 [==============================] - 3s 270ms/step - loss: 5.0674e-04 - val_loss: 2.3120e-04\n",
      "Epoch 44/100\n",
      "12/12 [==============================] - 3s 271ms/step - loss: 4.6607e-04 - val_loss: 1.5622e-04\n",
      "Epoch 45/100\n",
      "12/12 [==============================] - 3s 292ms/step - loss: 4.2752e-04 - val_loss: 1.8583e-04\n",
      "Epoch 46/100\n",
      "12/12 [==============================] - 4s 303ms/step - loss: 4.1543e-04 - val_loss: 1.9250e-04\n",
      "Epoch 47/100\n",
      "12/12 [==============================] - 3s 283ms/step - loss: 4.2888e-04 - val_loss: 1.5679e-04\n",
      "Epoch 48/100\n",
      "12/12 [==============================] - 4s 294ms/step - loss: 3.9237e-04 - val_loss: 1.7795e-04\n",
      "Epoch 49/100\n",
      "12/12 [==============================] - 4s 293ms/step - loss: 3.4752e-04 - val_loss: 1.9745e-04\n",
      "Epoch 50/100\n",
      "12/12 [==============================] - 4s 300ms/step - loss: 3.7948e-04 - val_loss: 1.5922e-04\n",
      "Epoch 51/100\n",
      "12/12 [==============================] - 3s 269ms/step - loss: 3.6990e-04 - val_loss: 1.5702e-04\n",
      "Epoch 52/100\n",
      "12/12 [==============================] - 4s 305ms/step - loss: 3.6175e-04 - val_loss: 1.8598e-04\n",
      "Epoch 53/100\n",
      "12/12 [==============================] - 4s 293ms/step - loss: 3.9422e-04 - val_loss: 1.5354e-04\n",
      "Epoch 54/100\n",
      "12/12 [==============================] - 4s 317ms/step - loss: 3.3749e-04 - val_loss: 2.0751e-04\n",
      "Epoch 55/100\n",
      "12/12 [==============================] - 3s 284ms/step - loss: 3.5082e-04 - val_loss: 1.4953e-04\n",
      "Epoch 56/100\n",
      "12/12 [==============================] - 4s 307ms/step - loss: 3.6159e-04 - val_loss: 2.0155e-04\n",
      "Epoch 57/100\n",
      "12/12 [==============================] - 3s 293ms/step - loss: 3.3716e-04 - val_loss: 1.5899e-04\n",
      "Epoch 58/100\n",
      "12/12 [==============================] - 3s 291ms/step - loss: 3.9827e-04 - val_loss: 1.6937e-04\n",
      "Epoch 59/100\n",
      "12/12 [==============================] - 3s 284ms/step - loss: 3.9408e-04 - val_loss: 1.9247e-04\n",
      "Epoch 60/100\n",
      "12/12 [==============================] - 3s 293ms/step - loss: 3.4443e-04 - val_loss: 1.5013e-04\n",
      "Epoch 61/100\n",
      "12/12 [==============================] - 3s 286ms/step - loss: 3.3199e-04 - val_loss: 1.8180e-04\n",
      "Epoch 62/100\n",
      "12/12 [==============================] - 4s 309ms/step - loss: 3.5369e-04 - val_loss: 1.5142e-04\n",
      "Epoch 63/100\n",
      "12/12 [==============================] - 3s 286ms/step - loss: 3.8049e-04 - val_loss: 2.0727e-04\n",
      "Epoch 64/100\n",
      "12/12 [==============================] - 4s 312ms/step - loss: 3.8182e-04 - val_loss: 1.4550e-04\n",
      "Epoch 65/100\n",
      "12/12 [==============================] - 3s 290ms/step - loss: 3.7931e-04 - val_loss: 1.6243e-04\n",
      "Epoch 66/100\n",
      "12/12 [==============================] - 4s 301ms/step - loss: 3.4704e-04 - val_loss: 1.6817e-04\n",
      "Epoch 67/100\n",
      "12/12 [==============================] - 3s 282ms/step - loss: 3.3543e-04 - val_loss: 1.4245e-04\n",
      "Epoch 68/100\n",
      "12/12 [==============================] - 4s 327ms/step - loss: 3.3021e-04 - val_loss: 1.3956e-04\n",
      "Epoch 69/100\n",
      "12/12 [==============================] - 4s 304ms/step - loss: 3.3790e-04 - val_loss: 2.3985e-04\n",
      "Epoch 70/100\n",
      "12/12 [==============================] - 3s 288ms/step - loss: 3.7169e-04 - val_loss: 1.4593e-04\n",
      "Epoch 71/100\n",
      "12/12 [==============================] - 3s 288ms/step - loss: 4.1721e-04 - val_loss: 1.9085e-04\n",
      "Epoch 72/100\n",
      "12/12 [==============================] - 4s 294ms/step - loss: 3.4818e-04 - val_loss: 1.3711e-04\n",
      "Epoch 73/100\n",
      "12/12 [==============================] - 4s 304ms/step - loss: 3.1521e-04 - val_loss: 1.6868e-04\n",
      "Epoch 74/100\n",
      "12/12 [==============================] - 4s 313ms/step - loss: 3.3463e-04 - val_loss: 1.3705e-04\n",
      "Epoch 75/100\n",
      "12/12 [==============================] - 3s 292ms/step - loss: 3.0794e-04 - val_loss: 1.8701e-04\n"
     ]
    },
    {
     "name": "stdout",
     "output_type": "stream",
     "text": [
      "Epoch 76/100\n",
      "12/12 [==============================] - 4s 292ms/step - loss: 3.1756e-04 - val_loss: 1.4341e-04\n",
      "Epoch 77/100\n",
      "12/12 [==============================] - 4s 306ms/step - loss: 3.3303e-04 - val_loss: 1.5798e-04\n",
      "Epoch 78/100\n",
      "12/12 [==============================] - 3s 288ms/step - loss: 3.0676e-04 - val_loss: 1.3969e-04\n",
      "Epoch 79/100\n",
      "12/12 [==============================] - 3s 268ms/step - loss: 3.0339e-04 - val_loss: 1.4179e-04\n",
      "Epoch 80/100\n",
      "12/12 [==============================] - 3s 269ms/step - loss: 2.9875e-04 - val_loss: 1.6144e-04\n",
      "Epoch 81/100\n",
      "12/12 [==============================] - 3s 269ms/step - loss: 3.0583e-04 - val_loss: 1.3200e-04\n",
      "Epoch 82/100\n",
      "12/12 [==============================] - 3s 269ms/step - loss: 3.3272e-04 - val_loss: 1.4764e-04\n",
      "Epoch 83/100\n",
      "12/12 [==============================] - 3s 270ms/step - loss: 3.0321e-04 - val_loss: 1.2711e-04\n",
      "Epoch 84/100\n",
      "12/12 [==============================] - 3s 267ms/step - loss: 2.9465e-04 - val_loss: 1.5162e-04\n",
      "Epoch 85/100\n",
      "12/12 [==============================] - 3s 269ms/step - loss: 2.8752e-04 - val_loss: 1.3277e-04\n",
      "Epoch 86/100\n",
      "12/12 [==============================] - 3s 271ms/step - loss: 2.8189e-04 - val_loss: 1.8227e-04\n",
      "Epoch 87/100\n",
      "12/12 [==============================] - 3s 266ms/step - loss: 2.7161e-04 - val_loss: 1.3001e-04\n",
      "Epoch 88/100\n",
      "12/12 [==============================] - 3s 268ms/step - loss: 2.8768e-04 - val_loss: 2.3044e-04\n",
      "Epoch 89/100\n",
      "12/12 [==============================] - 3s 268ms/step - loss: 3.0681e-04 - val_loss: 1.2736e-04\n",
      "Epoch 90/100\n",
      "12/12 [==============================] - 3s 269ms/step - loss: 3.0741e-04 - val_loss: 1.4368e-04\n",
      "Epoch 91/100\n",
      "12/12 [==============================] - 3s 268ms/step - loss: 2.8705e-04 - val_loss: 1.4803e-04\n",
      "Epoch 92/100\n",
      "12/12 [==============================] - 3s 271ms/step - loss: 2.7976e-04 - val_loss: 1.4569e-04\n",
      "Epoch 93/100\n",
      "12/12 [==============================] - 3s 275ms/step - loss: 2.6809e-04 - val_loss: 1.6572e-04\n",
      "Epoch 94/100\n",
      "12/12 [==============================] - 3s 275ms/step - loss: 2.6806e-04 - val_loss: 1.4465e-04\n",
      "Epoch 95/100\n",
      "12/12 [==============================] - 3s 271ms/step - loss: 2.8664e-04 - val_loss: 1.2856e-04\n",
      "Epoch 96/100\n",
      "12/12 [==============================] - 3s 272ms/step - loss: 4.4259e-04 - val_loss: 2.4145e-04\n",
      "Epoch 97/100\n",
      "12/12 [==============================] - 3s 268ms/step - loss: 3.6003e-04 - val_loss: 1.2171e-04\n",
      "Epoch 98/100\n",
      "12/12 [==============================] - 3s 264ms/step - loss: 2.9434e-04 - val_loss: 1.6986e-04\n",
      "Epoch 99/100\n",
      "12/12 [==============================] - 3s 268ms/step - loss: 2.7202e-04 - val_loss: 1.9026e-04\n",
      "Epoch 100/100\n",
      "12/12 [==============================] - 3s 270ms/step - loss: 2.5997e-04 - val_loss: 1.5693e-04\n"
     ]
    },
    {
     "data": {
      "text/plain": [
       "<keras.callbacks.History at 0x1fe51e8fd60>"
      ]
     },
     "execution_count": 41,
     "metadata": {},
     "output_type": "execute_result"
    }
   ],
   "source": [
    "model.fit(X_train,y_train,validation_data=(X_test,y_test),epochs=100,batch_size=64,verbose=1)"
   ]
  },
  {
   "cell_type": "code",
   "execution_count": 42,
   "id": "aa1a4dd0",
   "metadata": {},
   "outputs": [],
   "source": [
    "train_predict=model.predict(X_train)\n",
    "test_predict=model.predict(X_test)"
   ]
  },
  {
   "cell_type": "markdown",
   "id": "9864ee26",
   "metadata": {},
   "source": [
    "# Transform to original form"
   ]
  },
  {
   "cell_type": "code",
   "execution_count": 43,
   "id": "c7e16471",
   "metadata": {},
   "outputs": [],
   "source": [
    "train_predict=scaler.inverse_transform(train_predict)\n",
    "test_predict=scaler.inverse_transform(test_predict)"
   ]
  },
  {
   "cell_type": "code",
   "execution_count": 44,
   "id": "2aadb53a",
   "metadata": {},
   "outputs": [],
   "source": [
    "import math\n",
    "from sklearn.metrics import mean_squared_error"
   ]
  },
  {
   "cell_type": "code",
   "execution_count": 45,
   "id": "fe6c2814",
   "metadata": {},
   "outputs": [
    {
     "data": {
      "text/plain": [
       "209.20750714359895"
      ]
     },
     "execution_count": 45,
     "metadata": {},
     "output_type": "execute_result"
    }
   ],
   "source": [
    "math.sqrt(mean_squared_error(y_train,train_predict))"
   ]
  },
  {
   "cell_type": "code",
   "execution_count": 46,
   "id": "66f7be2b",
   "metadata": {},
   "outputs": [
    {
     "data": {
      "text/plain": [
       "143.67062856837217"
      ]
     },
     "execution_count": 46,
     "metadata": {},
     "output_type": "execute_result"
    }
   ],
   "source": [
    "math.sqrt(mean_squared_error(y_test,test_predict))"
   ]
  },
  {
   "cell_type": "markdown",
   "id": "1749a31f",
   "metadata": {},
   "source": [
    "# Plotting"
   ]
  },
  {
   "cell_type": "code",
   "execution_count": 48,
   "id": "2d22d7dc",
   "metadata": {},
   "outputs": [
    {
     "data": {
      "image/png": "[encoded data removed]",
      "text/plain": [
       "<Figure size 432x288 with 1 Axes>"
      ]
     },
     "metadata": {
      "needs_background": "light"
     },
     "output_type": "display_data"
    }
   ],
   "source": [
    "look_back=100\n",
    "# shift train predictions for plotting\n",
    "trainPredictPlot=numpy.empty_like(df1)\n",
    "trainPredictPlot[:,:]=np.nan\n",
    "trainPredictPlot[look_back:len(train_predict)+look_back,:]=train_predict\n",
    "# shift est predictions for plotting\n",
    "testPredictPlot=numpy.empty_like(df1)\n",
    "testPredictPlot[:,:]=np.nan\n",
    "testPredictPlot[len(train_predict)+(look_back*2)+1:len(df1)-1,:]=test_predict\n",
    "# plot baseline and predictions\n",
    "plt.plot(scaler.inverse_transform(df1))\n",
    "plt.plot(trainPredictPlot)\n",
    "plt.plot(testPredictPlot)\n",
    "plt.show()"
   ]
  },
  {
   "cell_type": "markdown",
   "id": "3fa6f955",
   "metadata": {},
   "source": [
    "# forecasting for the next 30 days"
   ]
  },
  {
   "cell_type": "code",
   "execution_count": 50,
   "id": "8d4c04c8",
   "metadata": {},
   "outputs": [
    {
     "data": {
      "text/plain": [
       "(1, 100)"
      ]
     },
     "execution_count": 50,
     "metadata": {},
     "output_type": "execute_result"
    }
   ],
   "source": [
    "x_input=test_data[341:].reshape(1,-1)\n",
    "x_input.shape"
   ]
  },
  {
   "cell_type": "code",
   "execution_count": 51,
   "id": "11d1d6fb",
   "metadata": {},
   "outputs": [],
   "source": [
    "temp_input=list(x_input)\n",
    "temp_input=temp_input[0].tolist()"
   ]
  },
  {
   "cell_type": "code",
   "execution_count": 53,
   "id": "e8612904",
   "metadata": {},
   "outputs": [
    {
     "name": "stdout",
     "output_type": "stream",
     "text": [
      "[[0.1619911789894104], [0.16077299416065216], [0.16014805436134338], [0.15995894372463226], [0.16003212332725525], [0.16024236381053925], [0.1605156660079956], [0.16081438958644867], [0.16112181544303894], [0.16143161058425903], [0.16174156963825226], [0.16205094754695892], [0.16235926747322083], [0.16266600787639618], [0.162970632314682], [0.16327258944511414], [0.16357140243053436], [0.16386674344539642], [0.16415832936763763], [0.16444607079029083], [0.16472981870174408], [0.1650095134973526], [0.16528521478176117], [0.1655568927526474], [0.16582465171813965], [0.1660885065793991], [0.16634859144687653], [0.1666048914194107], [0.16685760021209717], [0.1671067327260971]]\n"
     ]
    }
   ],
   "source": [
    "from numpy import array\n",
    "list_output=[]\n",
    "n_steps=100\n",
    "i=0\n",
    "while(i<30):\n",
    "    if(len(temp_input)>100):\n",
    "        x_input=np.array(temp_input[1:])\n",
    "        x_input=x_input.reshape(1,-1)\n",
    "        x_input=x_input.reshape((1,n_steps,1))\n",
    "        yhat=model.predict(x_input,verbose=0)\n",
    "        temp_input.extend(yhat[0].tolist())\n",
    "        temp_input=temp_input[1:]\n",
    "        list_output.extend(yhat.tolist())\n",
    "        i=i+1\n",
    "    else:\n",
    "        x_input=x_input.reshape((1,n_steps,1))\n",
    "        yhat=model.predict(x_input,verbose=0)\n",
    "        temp_input.extend(yhat[0].tolist())\n",
    "        list_output.extend(yhat.tolist())\n",
    "        i=i+1\n",
    "print(list_output)"
   ]
  },
  {
   "cell_type": "code",
   "execution_count": 54,
   "id": "734b2764",
   "metadata": {},
   "outputs": [],
   "source": [
    "day_new=np.arange(1,101)\n",
    "day_pred=np.arange(101,131)"
   ]
  },
  {
   "cell_type": "code",
   "execution_count": 59,
   "id": "3d5dd940",
   "metadata": {},
   "outputs": [],
   "source": [
    "import matplotlib.pyplot as plt"
   ]
  },
  {
   "cell_type": "code",
   "execution_count": 56,
   "id": "fa46bbae",
   "metadata": {},
   "outputs": [
    {
     "data": {
      "text/plain": [
       "1258"
      ]
     },
     "execution_count": 56,
     "metadata": {},
     "output_type": "execute_result"
    }
   ],
   "source": [
    "len(df1)"
   ]
  },
  {
   "cell_type": "code",
   "execution_count": 57,
   "id": "ec66d23f",
   "metadata": {},
   "outputs": [],
   "source": [
    "df3=df1.tolist()\n",
    "df3.extend(list_output)"
   ]
  },
  {
   "cell_type": "code",
   "execution_count": 61,
   "id": "26d225e7",
   "metadata": {},
   "outputs": [
    {
     "data": {
      "text/plain": [
       "[<matplotlib.lines.Line2D at 0x1fe51fd6e80>]"
      ]
     },
     "execution_count": 61,
     "metadata": {},
     "output_type": "execute_result"
    },
    {
     "data": {
      "image/png": "[encoded data removed]",
      "text/plain": [
       "<Figure size 432x288 with 1 Axes>"
      ]
     },
     "metadata": {
      "needs_background": "light"
     },
     "output_type": "display_data"
    }
   ],
   "source": [
    "plt.plot(day_new,scaler.inverse_transform(df1[1158:]))\n",
    "plt.plot(day_pred,scaler.inverse_transform(list_output))"
   ]
  },
  {
   "cell_type": "code",
   "execution_count": 63,
   "id": "3a0802fc",
   "metadata": {},
   "outputs": [
    {
     "data": {
      "text/plain": [
       "[<matplotlib.lines.Line2D at 0x1fe604c8700>]"
      ]
     },
     "execution_count": 63,
     "metadata": {},
     "output_type": "execute_result"
    },
    {
     "data": {
      "image/png": "[encoded data removed]",
      "text/plain": [
       "<Figure size 432x288 with 1 Axes>"
      ]
     },
     "metadata": {
      "needs_background": "light"
     },
     "output_type": "display_data"
    }
   ],
   "source": [
    "df3=df1.tolist()\n",
    "df3.extend(list_output)\n",
    "plt.plot(df3[1000:])"
   ]
  },
  {
   "cell_type": "code",
   "execution_count": null,
   "id": "a5cb7057",
   "metadata": {},
   "outputs": [],
   "source": []
  }
 ],
 "metadata": {
  "kernelspec": {
   "display_name": "Python 3 (ipykernel)",
   "language": "python",
   "name": "python3"
  },
  "language_info": {
   "codemirror_mode": {
    "name": "ipython",
    "version": 3
   },
   "file_extension": ".py",
   "mimetype": "text/x-python",
   "name": "python",
   "nbconvert_exporter": "python",
   "pygments_lexer": "ipython3",
   "version": "3.9.5"
  }
 },
 "nbformat": 4,
 "nbformat_minor": 5
}
